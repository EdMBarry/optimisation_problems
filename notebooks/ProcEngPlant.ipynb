{
 "cells": [
  {
   "cell_type": "markdown",
   "metadata": {},
   "source": [
    "# Optimisation of reactants and product formation of a chemical plant"
   ]
  },
  {
   "cell_type": "markdown",
   "metadata": {},
   "source": [
    "A chemical plant produces three products (E, F, G) from three raw materials (A, B, C) in limited supply. How much of each product should be used in order to maximise teh total operating profit per day?\n",
    "\n",
    "![chem plant](../images/chemical_plant.png \"Schematic and necessary information about the chemical plant\")"
   ]
  },
  {
   "cell_type": "markdown",
   "metadata": {},
   "source": [
    "Despite there being only 6 states, there are actually 10 for this problem, as we need to do mass balances across each process."
   ]
  },
  {
   "cell_type": "code",
   "execution_count": null,
   "metadata": {},
   "outputs": [],
   "source": [
    "import pulp"
   ]
  }
 ],
 "metadata": {
  "kernelspec": {
   "display_name": "Python 3",
   "language": "python",
   "name": "python3"
  },
  "language_info": {
   "codemirror_mode": {
    "name": "ipython",
    "version": 3
   },
   "file_extension": ".py",
   "mimetype": "text/x-python",
   "name": "python",
   "nbconvert_exporter": "python",
   "pygments_lexer": "ipython3",
   "version": "3.7.6"
  }
 },
 "nbformat": 4,
 "nbformat_minor": 4
}
