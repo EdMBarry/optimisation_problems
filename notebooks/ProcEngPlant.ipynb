{
 "cells": [
  {
   "cell_type": "markdown",
   "metadata": {},
   "source": [
    "# Optimisation of reactants and product formation of a chemical plant"
   ]
  },
  {
   "cell_type": "markdown",
   "metadata": {},
   "source": [
    "A chemical plant produces three products (E, F, G) from three raw materials (A, B, C) in limited supply. How much of each product should be used in order to maximise teh total operating profit per day?\n",
    "\n",
    "![chem plant](../images/chemical_plant.png \"Schematic and necessary information about the chemical plant\")"
   ]
  },
  {
   "cell_type": "markdown",
   "metadata": {},
   "source": [
    "Despite there being only 6 states, there are actually 10 for this problem, as we need to do mass balances across each process."
   ]
  },
  {
   "cell_type": "code",
   "execution_count": 58,
   "metadata": {},
   "outputs": [],
   "source": [
    "import pulp\n",
    "import numpy as np"
   ]
  },
  {
   "cell_type": "code",
   "execution_count": null,
   "metadata": {},
   "outputs": [],
   "source": []
  },
  {
   "cell_type": "code",
   "execution_count": 5,
   "metadata": {},
   "outputs": [],
   "source": [
    "# Define the names of state variables\n",
    "CHEMICALS = [\"x\"+str(i) for i in range(1,13)]"
   ]
  },
  {
   "cell_type": "code",
   "execution_count": 6,
   "metadata": {},
   "outputs": [
    {
     "data": {
      "text/plain": [
       "['x1', 'x2', 'x3', 'x4', 'x5', 'x6', 'x7', 'x8', 'x9', 'x10', 'x11', 'x12']"
      ]
     },
     "execution_count": 6,
     "metadata": {},
     "output_type": "execute_result"
    }
   ],
   "source": [
    "CHEMICALS\n",
    "# x1: A1\n",
    "# x2: B1\n",
    "# x3: A2\n",
    "# x4: B2\n",
    "# x5: A3\n",
    "# x6: B3\n",
    "# x7: C3 == C0\n",
    "# x8: E\n",
    "# x9: F\n",
    "# x10: G\n",
    "# x11: A0\n",
    "# x12: B0"
   ]
  },
  {
   "cell_type": "code",
   "execution_count": 66,
   "metadata": {},
   "outputs": [],
   "source": [
    "# Define the processing costs\n",
    "profit_list = [[0]*2]*len(CHEMICALS)\n",
    "profit_list[6] = [-0.025, 0.000]\n",
    "profit_list[-1] = [-0.015, 0.00]\n",
    "profit_list[-2] = [-0.025, 0.00]\n",
    "profit_list[7] = [-0.015, 0.040]   # processing, selling price E\n",
    "profit_list[8] = [-0.005, 0.033]   # processing, selling cost F\n",
    "profit_list[9] = [-0.010, 0.038]   # processing, selling price G\n",
    "profits = [sum(profit_list[i]) for i in range(len(profit_list))]\n",
    "profit = dict(zip(CHEMICALS, profits))"
   ]
  },
  {
   "cell_type": "code",
   "execution_count": 71,
   "metadata": {},
   "outputs": [
    {
     "data": {
      "text/plain": [
       "{'x1': 0,\n",
       " 'x2': 0,\n",
       " 'x3': 0,\n",
       " 'x4': 0,\n",
       " 'x5': 0,\n",
       " 'x6': 0,\n",
       " 'x7': -0.025,\n",
       " 'x8': 0.025,\n",
       " 'x9': 0.028,\n",
       " 'x10': 0.027999999999999997,\n",
       " 'x11': -0.025,\n",
       " 'x12': -0.015}"
      ]
     },
     "execution_count": 71,
     "metadata": {},
     "output_type": "execute_result"
    }
   ],
   "source": [
    "profit\n",
    "#profit_sum = sum(profit)"
   ]
  },
  {
   "cell_type": "code",
   "execution_count": 72,
   "metadata": {},
   "outputs": [],
   "source": [
    "# Define the problem\n",
    "prob = pulp.LpProblem(name=\"ProcEng\", sense=pulp.LpMaximize)"
   ]
  },
  {
   "cell_type": "code",
   "execution_count": 73,
   "metadata": {},
   "outputs": [],
   "source": [
    "# Set our decision variables\n",
    "chemical_vars = pulp.LpVariable.dicts(\"CHEMICALS\", CHEMICALS, 0, None, pulp.LpInteger)"
   ]
  },
  {
   "cell_type": "code",
   "execution_count": 74,
   "metadata": {},
   "outputs": [],
   "source": [
    "# Define our objective function (maximise the profits)\n",
    "prob += pulp.lpSum([profit[i]*chemical_vars[i] for i in CHEMICALS]), \"Max Profit\""
   ]
  },
  {
   "cell_type": "code",
   "execution_count": 82,
   "metadata": {},
   "outputs": [],
   "source": [
    "# Set our constraining variables\n",
    "\n",
    "prob += 2.0/3*(chemical_vars[\"x8\"] + chemical_vars[\"x9\"]) + 0.5*chemical_vars[\"x10\"] == chemical_vars[\"x11\"]\n",
    "prob += 1.0/3*(chemical_vars[\"x8\"] + chemical_vars[\"x9\"]) + 1.0/6*chemical_vars[\"x10\"] == chemical_vars[\"x12\"]\n",
    "prob += 1.0/3*chemical_vars[\"x10\"] == chemical_vars[\"x7\"]\n",
    "\n",
    "prob += chemical_vars[\"x11\"] <= 40_000\n",
    "prob += chemical_vars[\"x12\"] <= 30_000\n",
    "prob += chemical_vars[\"x7\"] <= 25_000\n"
   ]
  },
  {
   "cell_type": "code",
   "execution_count": 83,
   "metadata": {},
   "outputs": [],
   "source": [
    "prob.solve()\n",
    "prob.writeLP(\"../output/ProcEngPlantModel.lp\")"
   ]
  },
  {
   "cell_type": "code",
   "execution_count": 84,
   "metadata": {},
   "outputs": [
    {
     "name": "stdout",
     "output_type": "stream",
     "text": [
      "Status: Optimal\n"
     ]
    }
   ],
   "source": [
    "print(\"Status:\", pulp.LpStatus[prob.status])"
   ]
  },
  {
   "cell_type": "code",
   "execution_count": 85,
   "metadata": {},
   "outputs": [
    {
     "name": "stdout",
     "output_type": "stream",
     "text": [
      "CHEMICALS_x10 = 0.0\n",
      "CHEMICALS_x11 = 40000.0\n",
      "CHEMICALS_x12 = 20000.0\n",
      "CHEMICALS_x7 = 0.0\n",
      "CHEMICALS_x8 = 0.0\n",
      "CHEMICALS_x9 = 60000.0\n"
     ]
    }
   ],
   "source": [
    "for v in prob.variables():\n",
    "    print(v.name, \"=\", v.varValue)"
   ]
  },
  {
   "cell_type": "code",
   "execution_count": 86,
   "metadata": {},
   "outputs": [
    {
     "name": "stdout",
     "output_type": "stream",
     "text": [
      "The total profit is $380.0\n"
     ]
    }
   ],
   "source": [
    "print(f\"The total profit is ${pulp.value(prob.objective)}\")"
   ]
  },
  {
   "cell_type": "markdown",
   "metadata": {},
   "source": [
    "It looks like we're not interested in anything other than selling product F. We don't care about products E or G, therefore we don't need to buy in any of reactant C."
   ]
  }
 ],
 "metadata": {
  "kernelspec": {
   "display_name": "Python 3",
   "language": "python",
   "name": "python3"
  },
  "language_info": {
   "codemirror_mode": {
    "name": "ipython",
    "version": 3
   },
   "file_extension": ".py",
   "mimetype": "text/x-python",
   "name": "python",
   "nbconvert_exporter": "python",
   "pygments_lexer": "ipython3",
   "version": "3.7.6"
  }
 },
 "nbformat": 4,
 "nbformat_minor": 4
}
