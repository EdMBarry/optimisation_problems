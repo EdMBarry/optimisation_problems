{
 "cells": [
  {
   "cell_type": "markdown",
   "metadata": {},
   "source": [
    "# Optimisation of reactants and product formation of a chemical plant"
   ]
  },
  {
   "cell_type": "markdown",
   "metadata": {},
   "source": [
    "A chemical plant produces three products (E, F, G) from three raw materials (A, B, C) in limited supply. How much of each product should be used in order to maximise teh total operating profit per day?\n",
    "\n",
    "![chem plant](../images/chemical_plant.png \"Schematic and necessary information about the chemical plant\")"
   ]
  },
  {
   "cell_type": "markdown",
   "metadata": {},
   "source": [
    "Despite there being only 6 states, there are actually 10 for this problem, as we need to do mass balances across each process."
   ]
  },
  {
   "cell_type": "code",
   "execution_count": 1,
   "metadata": {},
   "outputs": [],
   "source": [
    "import pulp"
   ]
  },
  {
   "cell_type": "code",
   "execution_count": null,
   "metadata": {},
   "outputs": [],
   "source": []
  },
  {
   "cell_type": "code",
   "execution_count": 2,
   "metadata": {},
   "outputs": [],
   "source": [
    "# Define the names of state variables\n",
    "CHEMICALS = [\"x\"+str(i) for i in range(1,13)]"
   ]
  },
  {
   "cell_type": "code",
   "execution_count": 3,
   "metadata": {},
   "outputs": [
    {
     "data": {
      "text/plain": [
       "['x1', 'x2', 'x3', 'x4', 'x5', 'x6', 'x7', 'x8', 'x9', 'x10', 'x11', 'x12']"
      ]
     },
     "execution_count": 3,
     "metadata": {},
     "output_type": "execute_result"
    }
   ],
   "source": [
    "CHEMICALS\n",
    "# x1: A1\n",
    "# x2: B1\n",
    "# x3: A2\n",
    "# x4: B2\n",
    "# x5: A3\n",
    "# x6: B3\n",
    "# x7: C3 == C0\n",
    "# x8: E\n",
    "# x9: F\n",
    "# x10: G\n",
    "# x11: A0\n",
    "# x12: B0"
   ]
  },
  {
   "cell_type": "code",
   "execution_count": 4,
   "metadata": {},
   "outputs": [],
   "source": [
    "# Define the material costs\n",
    "mat_cost_list = [0]*len(CHEMICALS)\n",
    "mat_cost_list[-1] = 0.015\n",
    "mat_cost_list[-2] = 0.020\n",
    "mat_cost_list[6] = 0.025\n",
    "mat_costs = dict(zip(CHEMICALS, mat_cost_list))"
   ]
  },
  {
   "cell_type": "code",
   "execution_count": 22,
   "metadata": {},
   "outputs": [],
   "source": [
    "# Define the processing costs\n",
    "proc_rev_list = [[0]*2]*len(CHEMICALS)\n",
    "proc_rev_list[7] = [0.015, 0.040]   # processing, selling price E\n",
    "proc_rev_list[8] = [0.005, 0.033]   # processing, selling cost F\n",
    "proc_rev_list[9] = [0.010, 0.038]   # processing, selling price G\n",
    "proc_revs = dict(zip(CHEMICALS, proc_rev_list))"
   ]
  },
  {
   "cell_type": "code",
   "execution_count": 24,
   "metadata": {},
   "outputs": [
    {
     "data": {
      "text/plain": [
       "{'x1': [0, 0],\n",
       " 'x2': [0, 0],\n",
       " 'x3': [0, 0],\n",
       " 'x4': [0, 0],\n",
       " 'x5': [0, 0],\n",
       " 'x6': [0, 0],\n",
       " 'x7': [0, 0],\n",
       " 'x8': [0.015, 0.04],\n",
       " 'x9': [0.005, 0.033],\n",
       " 'x10': [0.01, 0.038],\n",
       " 'x11': [0, 0],\n",
       " 'x12': [0, 0]}"
      ]
     },
     "execution_count": 24,
     "metadata": {},
     "output_type": "execute_result"
    }
   ],
   "source": [
    "proc_revs"
   ]
  },
  {
   "cell_type": "code",
   "execution_count": null,
   "metadata": {},
   "outputs": [],
   "source": []
  }
 ],
 "metadata": {
  "kernelspec": {
   "display_name": "Python (optim)",
   "language": "python",
   "name": "optim"
  },
  "language_info": {
   "codemirror_mode": {
    "name": "ipython",
    "version": 3
   },
   "file_extension": ".py",
   "mimetype": "text/x-python",
   "name": "python",
   "nbconvert_exporter": "python",
   "pygments_lexer": "ipython3",
   "version": "3.7.6"
  }
 },
 "nbformat": 4,
 "nbformat_minor": 4
}
