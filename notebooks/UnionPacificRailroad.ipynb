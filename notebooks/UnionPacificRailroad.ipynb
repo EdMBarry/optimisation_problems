{
 "cells": [
  {
   "cell_type": "markdown",
   "metadata": {},
   "source": [
    "# Union Pacific Railroad: Empty car supply-demand\n",
    "\n",
    "## Problem description\n",
    "The sources of empty cars are in **Baltimore** and **Atlanta** with 200 and 300 cars respectively. \n",
    "\n",
    "The shipments pass through either **Chicago** and **Dallas** or there is one exception of **Baltimore** to **Fresno** direct.\n",
    "\n",
    "The demands are at **Great Falls** (100), **Eugene** (150) and **Fresno** (200).\n",
    "\n",
    "The costs per car for different routes are:\n",
    " - Atlanta Chicago \\$72\n",
    " - Atlanta Dallas \\$78\n",
    " - Baltimore Chicago \\$70\n",
    " - Baltimore Dallas \\$136\n",
    " - Baltimore Fresno \\$277\n",
    " - Chicago Fresno \\$213\n",
    " - Chicago Great Falls \\$138\n",
    " - Chicago Eugene \\$214\n",
    " - Dallas Eugene \\$206\n",
    " - Dallas Fresno \\$156\n",
    " \n",
    " What is the minimal cost solution?"
   ]
  },
  {
   "cell_type": "code",
   "execution_count": 1,
   "metadata": {},
   "outputs": [],
   "source": [
    "# Define our decision variables\n",
    "import pulp\n",
    "\n",
    "SOURCES = [\"Atlanta\", \"Baltimore\"]\n",
    "MIDWAYS = [\"Chicago\", \"Dallas\"]\n",
    "DESTINATIONS = [\"Eugene\", \"Fresno\", \"Great Falls\"]\n",
    "NODES = [SOURCES, MIDWAYS, DESTINATIONS]\n",
    "NODES = [item for items in NODES for item in items]\n",
    "ARCS = [(\"Atlanta\", \"Chicago\"),\n",
    "        (\"Atlanta\", \"Dallas\"),\n",
    "        (\"Baltimore\", \"Chicago\"),\n",
    "        (\"Baltimore\", \"Dallas\"),\n",
    "        (\"Baltimore\", \"Fresno\"),\n",
    "        (\"Chicago\", \"Fresno\"),\n",
    "        (\"Chicago\", \"Great Falls\"),\n",
    "        (\"Chicago\", \"Eugene\"),\n",
    "        (\"Dallas\", \"Eugene\"),\n",
    "        (\"Dallas\", \"Fresno\")]"
   ]
  },
  {
   "cell_type": "code",
   "execution_count": 2,
   "metadata": {},
   "outputs": [],
   "source": [
    "NODES\n",
    "\n",
    "supply_list = [[300, 0], [200, 0], [0, 0], [0, 0], [0, 150], [0, 200], [0, 100]]\n",
    "costs_data = [72, 78, 70, 136, 277, 213, 138, 214, 206, 156]"
   ]
  },
  {
   "cell_type": "code",
   "execution_count": 3,
   "metadata": {},
   "outputs": [],
   "source": [
    "# Define amount of cars that are available at each source\n",
    "node_data = dict(zip(NODES, supply_list))\n",
    "arc_costs = dict(zip(ARCS, costs_data))\n",
    "\n",
    "# Split the supply/demand dictionary\n",
    "(supply, demand) = pulp.splitDict(node_data)"
   ]
  },
  {
   "cell_type": "code",
   "execution_count": 4,
   "metadata": {},
   "outputs": [],
   "source": [
    "# Set problem variables\n",
    "prob = pulp.LpProblem(\"UnionPac\", pulp.LpMinimize)\n",
    "\n",
    "# create our variables\n",
    "arc_vars = pulp.LpVariable.dicts(\"Route\", ARCS, None, None, pulp.LpInteger)\n",
    "\n",
    "# Bound our variables\n",
    "for arc in ARCS:\n",
    "    arc_vars[arc].bounds(0, 500)"
   ]
  },
  {
   "cell_type": "code",
   "execution_count": 5,
   "metadata": {},
   "outputs": [],
   "source": [
    "# Create the objecive function\n",
    "prob += pulp.lpSum([arc_vars[i]*arc_costs[i] for i in ARCS]), \"The total cost of transport\""
   ]
  },
  {
   "cell_type": "code",
   "execution_count": 6,
   "metadata": {},
   "outputs": [
    {
     "data": {
      "text/plain": [
       "{'Atlanta': 300,\n",
       " 'Baltimore': 200,\n",
       " 'Chicago': 0,\n",
       " 'Dallas': 0,\n",
       " 'Eugene': 0,\n",
       " 'Fresno': 0,\n",
       " 'Great Falls': 0}"
      ]
     },
     "execution_count": 6,
     "metadata": {},
     "output_type": "execute_result"
    }
   ],
   "source": [
    "supply"
   ]
  },
  {
   "cell_type": "code",
   "execution_count": 7,
   "metadata": {},
   "outputs": [
    {
     "data": {
      "text/plain": [
       "{'Atlanta': 0,\n",
       " 'Baltimore': 0,\n",
       " 'Chicago': 0,\n",
       " 'Dallas': 0,\n",
       " 'Eugene': 150,\n",
       " 'Fresno': 200,\n",
       " 'Great Falls': 100}"
      ]
     },
     "execution_count": 7,
     "metadata": {},
     "output_type": "execute_result"
    }
   ],
   "source": [
    "demand"
   ]
  },
  {
   "cell_type": "code",
   "execution_count": 8,
   "metadata": {},
   "outputs": [],
   "source": [
    "# Create all problem constraints\n",
    "for node in NODES:\n",
    "    prob += (supply[node] + pulp.lpSum([arc_vars[(i, j)] for (i,j) in ARCS if j == node]) >=\n",
    "             demand[node] + pulp.lpSum([arc_vars[(i, j)] for (i,j) in ARCS if i == node])), \"Car flow conservation in node %s\"%node"
   ]
  },
  {
   "cell_type": "code",
   "execution_count": 9,
   "metadata": {},
   "outputs": [
    {
     "data": {
      "text/plain": [
       "1"
      ]
     },
     "execution_count": 9,
     "metadata": {},
     "output_type": "execute_result"
    }
   ],
   "source": [
    "prob.writeLP(\"../output/UnionPacificRailroad.lp\")\n",
    "prob.solve()"
   ]
  },
  {
   "cell_type": "code",
   "execution_count": 10,
   "metadata": {},
   "outputs": [
    {
     "name": "stdout",
     "output_type": "stream",
     "text": [
      "Status: Optimal\n"
     ]
    }
   ],
   "source": [
    "print(\"Status:\", pulp.LpStatus[prob.status])"
   ]
  },
  {
   "cell_type": "code",
   "execution_count": 11,
   "metadata": {},
   "outputs": [
    {
     "name": "stdout",
     "output_type": "stream",
     "text": [
      "Total Cost of Transportation =  110200.0\n"
     ]
    }
   ],
   "source": [
    "print(\"Total Cost of Transportation = \", pulp.value(prob.objective))"
   ]
  },
  {
   "cell_type": "code",
   "execution_count": 12,
   "metadata": {},
   "outputs": [
    {
     "name": "stdout",
     "output_type": "stream",
     "text": [
      "Route_('Atlanta',_'Chicago') = 0.0\n",
      "Route_('Atlanta',_'Dallas') = 300.0\n",
      "Route_('Baltimore',_'Chicago') = 150.0\n",
      "Route_('Baltimore',_'Dallas') = 0.0\n",
      "Route_('Baltimore',_'Fresno') = 0.0\n",
      "Route_('Chicago',_'Eugene') = 50.0\n",
      "Route_('Chicago',_'Fresno') = 0.0\n",
      "Route_('Chicago',_'Great_Falls') = 100.0\n",
      "Route_('Dallas',_'Eugene') = 100.0\n",
      "Route_('Dallas',_'Fresno') = 200.0\n"
     ]
    }
   ],
   "source": [
    "for v in prob.variables():\n",
    "    print(v.name, \"=\", v.varValue)"
   ]
  },
  {
   "cell_type": "code",
   "execution_count": null,
   "metadata": {},
   "outputs": [],
   "source": []
  }
 ],
 "metadata": {
  "kernelspec": {
   "display_name": "Python 3",
   "language": "python",
   "name": "python3"
  },
  "language_info": {
   "codemirror_mode": {
    "name": "ipython",
    "version": 3
   },
   "file_extension": ".py",
   "mimetype": "text/x-python",
   "name": "python",
   "nbconvert_exporter": "python",
   "pygments_lexer": "ipython3",
   "version": "3.7.6"
  }
 },
 "nbformat": 4,
 "nbformat_minor": 4
}
