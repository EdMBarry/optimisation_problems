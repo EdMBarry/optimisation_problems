{
 "cells": [
  {
   "cell_type": "markdown",
   "metadata": {},
   "source": [
    "# Trucking company optimisation problem\n",
    "\n",
    "A trucking company has borrowed 600k for new equipment and is contemplating three kinds of trucks"
   ]
  },
  {
   "cell_type": "code",
   "execution_count": 1,
   "metadata": {
    "ExecuteTime": {
     "end_time": "2020-02-13T07:10:49.130774Z",
     "start_time": "2020-02-13T07:10:49.116977Z"
    }
   },
   "outputs": [],
   "source": [
    "import pulp\n",
    "import numpy as np\n",
    "import pandas as pd\n",
    "import re\n",
    "import matplotlib.pyplot as plt\n",
    "%matplotlib inline"
   ]
  },
  {
   "cell_type": "markdown",
   "metadata": {},
   "source": [
    "## Create a dataframe with all the information required\n",
    "Truck A costs 10 000 and produces 2100 ton-miles per day. Needs 1 driver\n",
    "Truck B costs 20 000 and produces 3600 ton-miles per day. Needs two drivers\n",
    "Truck C costs 23 000 and produces 3780 ton-miles per day. Needs two drivers\n",
    "\n",
    "There is a constraint of 30 trucks and 145 drivers to be used.\n",
    "Budget is 600 000"
   ]
  },
  {
   "cell_type": "code",
   "execution_count": 2,
   "metadata": {},
   "outputs": [],
   "source": [
    "# Define names of trucks\n",
    "Trucks = [\"A\", \"B\", \"C\"]\n",
    "\n",
    "# Define the cost of trucks\n",
    "costs = {\"A\": 10_000,\n",
    "         \"B\": 20_000,\n",
    "         \"C\": 23_000}\n",
    "\n",
    "driver = {\"A\": 1,\n",
    "          \"B\": 2,\n",
    "          \"C\": 2}\n",
    "\n",
    "ton_miles = {\"A\": 2100,\n",
    "             \"B\": 3600,\n",
    "             \"C\": 3780}\n",
    "\n",
    "max_trucks = 30\n",
    "max_drivers = 145\n",
    "budget = 600_000"
   ]
  },
  {
   "cell_type": "code",
   "execution_count": 3,
   "metadata": {},
   "outputs": [],
   "source": [
    "# Define the problem, set up as a maximisation problem as we want to maximise the ton_miles\n",
    "prob = pulp.LpProblem(name=\"TruckingCo\", sense=pulp.LpMaximize)"
   ]
  },
  {
   "cell_type": "code",
   "execution_count": 4,
   "metadata": {},
   "outputs": [],
   "source": [
    "# Set our decision variables\n",
    "truck_vars = pulp.LpVariable.dicts(\"Truck\", Trucks, 0, None, pulp.LpInteger)"
   ]
  },
  {
   "cell_type": "code",
   "execution_count": 5,
   "metadata": {},
   "outputs": [],
   "source": [
    "# Define our objective function (maximise the ton_miles)\n",
    "prob += pulp.lpSum([ton_miles[i]*truck_vars[i] for i in Trucks]), \"Total benefit of trucks\""
   ]
  },
  {
   "cell_type": "code",
   "execution_count": 6,
   "metadata": {},
   "outputs": [],
   "source": [
    "# Define the constraints and add them to the problem\n",
    "\n",
    "# Constraint 1: budget of 600000\n",
    "prob += pulp.lpSum([truck_vars[i]*costs[i] for i in Trucks]) <= budget, \"BudgetSum\"\n",
    "\n",
    "# Constraint 2: There is a limit of 30 trucks\n",
    "prob += pulp.lpSum([truck_vars[i] for i in Trucks]) <= max_trucks, \"MaxTrucks\"\n",
    "\n",
    "# Constraint 3: There is a limit of 145 drivers\n",
    "prob += pulp.lpSum([truck_vars[i]*driver[i] for i in Trucks]) <= max_drivers, \"MaxDrivers\""
   ]
  },
  {
   "cell_type": "code",
   "execution_count": 7,
   "metadata": {},
   "outputs": [],
   "source": [
    "# Solve and write out the problem to an lp file:\n",
    "prob.solve()\n",
    "prob.writeLP(\"TruckModel.lp\")"
   ]
  },
  {
   "cell_type": "code",
   "execution_count": 8,
   "metadata": {},
   "outputs": [
    {
     "name": "stdout",
     "output_type": "stream",
     "text": [
      "Status: Optimal\n"
     ]
    }
   ],
   "source": [
    "print(\"Status:\", pulp.LpStatus[prob.status])"
   ]
  },
  {
   "cell_type": "code",
   "execution_count": 9,
   "metadata": {},
   "outputs": [
    {
     "name": "stdout",
     "output_type": "stream",
     "text": [
      "Truck_A = 0.0\n",
      "Truck_B = 30.0\n",
      "Truck_C = 0.0\n"
     ]
    }
   ],
   "source": [
    "for v in prob.variables():\n",
    "    print(v.name, \"=\", v.varValue)"
   ]
  },
  {
   "cell_type": "code",
   "execution_count": 11,
   "metadata": {},
   "outputs": [
    {
     "name": "stdout",
     "output_type": "stream",
     "text": [
      "The total income for the trucks is $108000.0\n"
     ]
    }
   ],
   "source": [
    "print(f\"The total income for the trucks is ${pulp.value(prob.objective)}\")"
   ]
  }
 ],
 "metadata": {
  "kernelspec": {
   "display_name": "Python 3",
   "language": "python",
   "name": "python3"
  },
  "language_info": {
   "codemirror_mode": {
    "name": "ipython",
    "version": 3
   },
   "file_extension": ".py",
   "mimetype": "text/x-python",
   "name": "python",
   "nbconvert_exporter": "python",
   "pygments_lexer": "ipython3",
   "version": "3.7.6"
  },
  "latex_envs": {
   "LaTeX_envs_menu_present": true,
   "autoclose": false,
   "autocomplete": true,
   "bibliofile": "biblio.bib",
   "cite_by": "apalike",
   "current_citInitial": 1,
   "eqLabelWithNumbers": true,
   "eqNumInitial": 1,
   "hotkeys": {
    "equation": "Ctrl-E",
    "itemize": "Ctrl-I"
   },
   "labels_anchors": false,
   "latex_user_defs": false,
   "report_style_numbering": false,
   "user_envs_cfg": false
  },
  "toc": {
   "base_numbering": 1,
   "nav_menu": {},
   "number_sections": true,
   "sideBar": true,
   "skip_h1_title": false,
   "title_cell": "Table of Contents",
   "title_sidebar": "Contents",
   "toc_cell": false,
   "toc_position": {},
   "toc_section_display": true,
   "toc_window_display": false
  },
  "varInspector": {
   "cols": {
    "lenName": 16,
    "lenType": 16,
    "lenVar": 40
   },
   "kernels_config": {
    "python": {
     "delete_cmd_postfix": "",
     "delete_cmd_prefix": "del ",
     "library": "var_list.py",
     "varRefreshCmd": "print(var_dic_list())"
    },
    "r": {
     "delete_cmd_postfix": ") ",
     "delete_cmd_prefix": "rm(",
     "library": "var_list.r",
     "varRefreshCmd": "cat(var_dic_list()) "
    }
   },
   "types_to_exclude": [
    "module",
    "function",
    "builtin_function_or_method",
    "instance",
    "_Feature"
   ],
   "window_display": false
  }
 },
 "nbformat": 4,
 "nbformat_minor": 4
}
